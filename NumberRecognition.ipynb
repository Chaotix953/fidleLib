{
 "cells": [
  {
   "cell_type": "code",
   "execution_count": 145,
   "id": "c0b2f4e1-2257-446d-8baa-519c81977e8f",
   "metadata": {},
   "outputs": [],
   "source": [
    "import tensorflow as tf\n",
    "from tensorflow import keras\n",
    "\n",
    "import numpy as np\n",
    "import matplotlib.pyplot as plt\n",
    "import pandas as pd\n",
    "import os, sys, h5py\n",
    "from PIL import Image\n",
    "\n",
    "path_dir = 'C:/Users/richy/OneDrive/Bureau/prog/jupyternb/'\n",
    "sys.path.append(path_dir)\n",
    "\n",
    "import fidle.pwk as pwk"
   ]
  },
  {
   "cell_type": "code",
   "execution_count": 235,
   "id": "6fa20d1e-4e10-4613-a0a2-070e07c976f4",
   "metadata": {},
   "outputs": [],
   "source": [
    "model = keras.models.load_model(path_dir + 'model.h5')"
   ]
  },
  {
   "cell_type": "code",
   "execution_count": 236,
   "id": "5dade9b4-9f60-4044-afd1-e818382106de",
   "metadata": {},
   "outputs": [],
   "source": [
    "image_path = path_dir + 'img01.png'\n",
    "image = Image.open(image_path).convert('L')\n",
    "#image.show()\n",
    "\n",
    "image_array = np.array(image).astype('float32') / 255.0\n",
    "image_array = image_array.flatten()\n",
    "image_array = image_array.reshape(-1, 28, 28 ,1)"
   ]
  },
  {
   "cell_type": "code",
   "execution_count": 237,
   "id": "84abf51a-aaf8-446d-bdda-3c2d889f890b",
   "metadata": {},
   "outputs": [
    {
     "name": "stdout",
     "output_type": "stream",
     "text": [
      "1/1 [==============================] - 0s 437ms/step\n",
      " 0 : 0.00 %\n",
      " 1 : 0.00 %\n",
      " 2 : 0.23 %\n",
      " 3 : 90.77 %\n",
      " 4 : 0.00 %\n",
      " 5 : 0.02 %\n",
      " 6 : 0.00 %\n",
      " 7 : 0.00 %\n",
      " 8 : 0.00 %\n",
      " 9 : 8.98 %\n",
      "Chiffre prédit : 3\n"
     ]
    }
   ],
   "source": [
    "prediction = model.predict(image_array)\n",
    "\n",
    "for i in range(len(prediction[0])):\n",
    "    print(f' {i} : {100 * prediction[0][i]:.2f} %')\n",
    "\n",
    "print(f'Chiffre prédit : {np.argmax(prediction)}')"
   ]
  },
  {
   "cell_type": "code",
   "execution_count": null,
   "id": "16d15a5f-f6b2-4e50-b9ff-e22c9c148640",
   "metadata": {},
   "outputs": [],
   "source": []
  }
 ],
 "metadata": {
  "kernelspec": {
   "display_name": "Python 3 (ipykernel)",
   "language": "python",
   "name": "python3"
  },
  "language_info": {
   "codemirror_mode": {
    "name": "ipython",
    "version": 3
   },
   "file_extension": ".py",
   "mimetype": "text/x-python",
   "name": "python",
   "nbconvert_exporter": "python",
   "pygments_lexer": "ipython3",
   "version": "3.11.4"
  }
 },
 "nbformat": 4,
 "nbformat_minor": 5
}
